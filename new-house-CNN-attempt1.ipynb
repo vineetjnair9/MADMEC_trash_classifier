{
 "cells": [
  {
   "cell_type": "code",
   "execution_count": 27,
   "id": "3d299c66",
   "metadata": {},
   "outputs": [],
   "source": [
    "import numpy as np\n",
    "import matplotlib.pyplot as plt\n",
    "import os\n",
    "from PIL import Image\n",
    "\n",
    "import tensorflow as tf\n",
    "from tensorflow import keras\n",
    "from tensorflow.keras import Sequential\n",
    "from tensorflow.keras.layers import Dense, Conv2D, Dropout, Flatten, MaxPooling2D\n",
    "from tensorflow.keras.models import model_from_json\n",
    "\n",
    "from sklearn.metrics import confusion_matrix\n",
    "from sklearn.metrics import accuracy_score as accuracy"
   ]
  },
  {
   "cell_type": "code",
   "execution_count": 2,
   "id": "653a118f",
   "metadata": {},
   "outputs": [],
   "source": [
    "def toy_CNN(X_train, y_train, **kwargs):\n",
    "        \n",
    "    model = Sequential([\n",
    "        Conv2D(filters=8, kernel_size=(8,8), strides=(4,4), activation='relu', input_shape=(384, 512, 3)),\n",
    "        MaxPooling2D(pool_size=(8,8)),\n",
    "        Conv2D(filters=8, kernel_size=(8,8), strides=(4,4), activation='relu'),\n",
    "        Dropout(0.1),\n",
    "        Flatten(),\n",
    "        Dense(1, activation='sigmoid')\n",
    "    ])\n",
    "    \n",
    "    model.compile(loss='binary_crossentropy', optimizer='adam', metrics='accuracy')\n",
    "    history = model.fit(X_train, y_train, **kwargs)\n",
    "    return model, history"
   ]
  },
  {
   "cell_type": "code",
   "execution_count": 3,
   "id": "3c834abd",
   "metadata": {},
   "outputs": [
    {
     "name": "stdout",
     "output_type": "stream",
     "text": [
      "Available datapoints: 352\n",
      "................................................................................................................................................................................................................................................................................................................................................................\n",
      "Kept datapoints: 352\n",
      "Trash datapoints: 118\n",
      "done\n"
     ]
    }
   ],
   "source": [
    "X, y = [], []\n",
    "folder = 'new-house-resized-dataset'\n",
    "folder_list = os.listdir(folder)\n",
    "nTotal = len(folder_list)\n",
    "print('Available datapoints:', nTotal)\n",
    "nTrash = 0\n",
    "for file in folder_list:\n",
    "    print('.',end='')\n",
    "    trash = int(file.split('_')[0] == 'trash')\n",
    "    img = Image.open(f'{folder}/{file}')\n",
    "    arr = np.array(img)\n",
    "    X.append(arr)\n",
    "    y.append(trash)\n",
    "    nTrash += trash\n",
    "\n",
    "print()\n",
    "print('Kept datapoints:', len(y))\n",
    "print('Trash datapoints:', nTrash)\n",
    "X, y = np.array(X), np.array(y)\n",
    "print('done')"
   ]
  },
  {
   "cell_type": "code",
   "execution_count": 4,
   "id": "d8a6f920",
   "metadata": {},
   "outputs": [
    {
     "name": "stdout",
     "output_type": "stream",
     "text": [
      "\n",
      " -- Performing NEW train-test split -- \n",
      "\n"
     ]
    },
    {
     "data": {
      "text/plain": [
       "(70, 384, 512, 3)"
      ]
     },
     "execution_count": 4,
     "metadata": {},
     "output_type": "execute_result"
    }
   ],
   "source": [
    "def train_test_split(X, y, test_idx=None, test_size=0.2):\n",
    "    ''' Split input data X and labels y into training and testing arrays '''\n",
    "    n_list = list(range(len(y)))\n",
    "    if test_idx is None:\n",
    "        print('\\n -- Performing NEW train-test split -- \\n')\n",
    "        test_idx = np.random.choice(n_list, replace=False, size=int(test_size*len(y)))\n",
    "    else:\n",
    "        test_idx = np.array(test_idx)\n",
    "    train_idx = np.array([i for i in n_list if i not in test_idx])\n",
    "    X_train = X[train_idx,:]\n",
    "    X_test = X[test_idx,:]\n",
    "    y_train = y[train_idx]\n",
    "    y_test = y[test_idx]\n",
    "    return X_train, y_train, X_test, y_test, test_idx\n",
    "\n",
    "X_train, y_train, X_test, y_test, test_idx = train_test_split(X,y)\n",
    "X_test.shape"
   ]
  },
  {
   "cell_type": "code",
   "execution_count": 9,
   "id": "381aadb8",
   "metadata": {
    "scrolled": false
   },
   "outputs": [
    {
     "name": "stdout",
     "output_type": "stream",
     "text": [
      "Epoch 1/20\n",
      "8/8 [==============================] - 2s 201ms/step - loss: 18.0014 - accuracy: 0.7244 - val_loss: 3.8795 - val_accuracy: 0.7544\n",
      "Epoch 2/20\n",
      "8/8 [==============================] - 1s 137ms/step - loss: 2.6821 - accuracy: 0.7244 - val_loss: 11.7224 - val_accuracy: 0.1053\n",
      "Epoch 3/20\n",
      "8/8 [==============================] - 1s 136ms/step - loss: 1.1252 - accuracy: 0.8533 - val_loss: 3.9710 - val_accuracy: 0.2105\n",
      "Epoch 4/20\n",
      "8/8 [==============================] - 1s 133ms/step - loss: 0.3505 - accuracy: 0.8711 - val_loss: 1.6350 - val_accuracy: 0.3509\n",
      "Epoch 5/20\n",
      "8/8 [==============================] - 1s 143ms/step - loss: 0.2281 - accuracy: 0.9200 - val_loss: 0.9758 - val_accuracy: 0.4912\n",
      "Epoch 6/20\n",
      "8/8 [==============================] - 1s 137ms/step - loss: 0.2083 - accuracy: 0.9244 - val_loss: 1.1625 - val_accuracy: 0.4211\n",
      "Epoch 7/20\n",
      "8/8 [==============================] - 1s 144ms/step - loss: 0.1635 - accuracy: 0.9378 - val_loss: 1.4032 - val_accuracy: 0.3684\n",
      "Epoch 8/20\n",
      "8/8 [==============================] - 1s 141ms/step - loss: 0.1376 - accuracy: 0.9644 - val_loss: 1.3182 - val_accuracy: 0.4386\n",
      "Epoch 9/20\n",
      "8/8 [==============================] - 1s 142ms/step - loss: 0.1238 - accuracy: 0.9556 - val_loss: 1.2271 - val_accuracy: 0.4386\n",
      "Epoch 10/20\n",
      "8/8 [==============================] - 1s 141ms/step - loss: 0.1042 - accuracy: 0.9733 - val_loss: 0.9987 - val_accuracy: 0.5789\n",
      "Epoch 11/20\n",
      "8/8 [==============================] - 1s 143ms/step - loss: 0.1060 - accuracy: 0.9822 - val_loss: 1.0407 - val_accuracy: 0.7368\n",
      "Epoch 12/20\n",
      "8/8 [==============================] - 1s 141ms/step - loss: 0.1123 - accuracy: 0.9600 - val_loss: 1.0430 - val_accuracy: 0.6491\n",
      "Epoch 13/20\n",
      "8/8 [==============================] - 1s 146ms/step - loss: 0.0661 - accuracy: 0.9778 - val_loss: 0.9740 - val_accuracy: 0.6842\n",
      "Epoch 14/20\n",
      "8/8 [==============================] - 1s 145ms/step - loss: 0.0871 - accuracy: 0.9644 - val_loss: 1.1645 - val_accuracy: 0.7368\n",
      "Epoch 15/20\n",
      "8/8 [==============================] - 1s 142ms/step - loss: 0.0772 - accuracy: 0.9733 - val_loss: 0.8173 - val_accuracy: 0.7368\n",
      "Epoch 16/20\n",
      "8/8 [==============================] - 1s 142ms/step - loss: 0.0632 - accuracy: 0.9778 - val_loss: 0.9924 - val_accuracy: 0.6667\n",
      "Epoch 17/20\n",
      "8/8 [==============================] - 1s 146ms/step - loss: 0.0818 - accuracy: 0.9733 - val_loss: 0.9777 - val_accuracy: 0.6667\n",
      "Epoch 18/20\n",
      "8/8 [==============================] - 1s 133ms/step - loss: 0.0770 - accuracy: 0.9600 - val_loss: 0.8156 - val_accuracy: 0.7193\n",
      "Epoch 19/20\n",
      "8/8 [==============================] - 1s 140ms/step - loss: 0.0517 - accuracy: 0.9733 - val_loss: 0.6696 - val_accuracy: 0.7368\n",
      "Epoch 20/20\n",
      "8/8 [==============================] - 1s 148ms/step - loss: 0.0658 - accuracy: 0.9822 - val_loss: 0.7088 - val_accuracy: 0.7719\n"
     ]
    }
   ],
   "source": [
    "#class_weight = {0:1, 1:100}\n",
    "#print(class_weight)\n",
    "toy_model, toy_hist = toy_CNN(X_train, y_train, verbose=True, epochs=20, validation_split=0.2,)\n",
    "                                # class_weight = class_weight)"
   ]
  },
  {
   "cell_type": "code",
   "execution_count": 10,
   "id": "3cec5c0b",
   "metadata": {},
   "outputs": [
    {
     "data": {
      "image/png": "[encoded data removed]",
      "text/plain": [
       "<Figure size 432x288 with 1 Axes>"
      ]
     },
     "metadata": {
      "needs_background": "light"
     },
     "output_type": "display_data"
    }
   ],
   "source": [
    "def plot_loss(hist):\n",
    "    plt.figure()\n",
    "    plt.plot(hist.history['loss'], label='loss')\n",
    "    plt.plot(hist.history['val_loss'], label='val_loss')\n",
    "    plt.xlabel('Epoch')\n",
    "    plt.ylabel('Loss (Binary Cross Entropy)')\n",
    "    plt.legend()\n",
    "    plt.grid(True)\n",
    "    \n",
    "plot_loss(toy_hist)"
   ]
  },
  {
   "cell_type": "code",
   "execution_count": 20,
   "id": "140f33f6",
   "metadata": {},
   "outputs": [
    {
     "data": {
      "image/png": "[encoded data removed]",
      "text/plain": [
       "<Figure size 432x432 with 1 Axes>"
      ]
     },
     "metadata": {
      "needs_background": "light"
     },
     "output_type": "display_data"
    }
   ],
   "source": [
    "y_pred = np.round(toy_model.predict(X_test), 4)\n",
    "plt.figure(figsize=(6,6))\n",
    "plt.plot(y_test, y_pred, 'o', label='Test Data', ms=10, alpha=0.2, c='green')\n",
    "plt.axvline(x=0.5, ls='--', c='k')\n",
    "plt.axvline(x=0, ls='-', c='grey', zorder=0, lw=0.5)\n",
    "plt.axvline(x=1, ls='-', c='grey', zorder=0, lw=0.5)\n",
    "plt.axhline(y=0.5, ls='--', c='k')\n",
    "plt.axhline(y=0, ls='-', c='grey', zorder=0, lw=0.5)\n",
    "plt.axhline(y=1, ls='-', c='grey', zorder=0, lw=0.5)\n",
    "plt.xlim(-0.5,1.5)\n",
    "plt.xticks([0,1],['Not Trash', 'Trash'], size=20)\n",
    "plt.ylim(-0.1,1.1)\n",
    "plt.yticks(np.arange(0,1.01,0.1))\n",
    "plt.legend(bbox_to_anchor=(1,1), loc='upper left', edgecolor='k', fontsize=16)\n",
    "plt.title('Prelim CNN test', size=20)\n",
    "None"
   ]
  },
  {
   "cell_type": "code",
   "execution_count": 15,
   "id": "6f0ffdfa",
   "metadata": {},
   "outputs": [
    {
     "name": "stdout",
     "output_type": "stream",
     "text": [
      "Trash (1) vs. Non-Trash (0) Binary Classifier trained on New House data\n",
      "\n",
      "Confusion matrix:\n",
      " [[41  2]\n",
      " [10 17]]\n",
      "\n",
      "Accuracy: 0.8285714285714286\n"
     ]
    }
   ],
   "source": [
    "y_pred_round = [int(np.round(a)) for a in y_pred]\n",
    "print('Trash (1) vs. Non-Trash (0) Binary Classifier trained on New House data')\n",
    "print('\\nConfusion matrix:\\n', confusion_matrix(y_test, y_pred_round))\n",
    "print('\\nAccuracy:', accuracy(y_test, y_pred_round))"
   ]
  },
  {
   "cell_type": "code",
   "execution_count": 26,
   "id": "c49167bb",
   "metadata": {},
   "outputs": [],
   "source": [
    "np.save('911_X_train', X_train)\n",
    "np.save('911_y_train', y_train)\n",
    "np.save('911_X_test', X_test)\n",
    "np.save('911_y_test', y_test)"
   ]
  },
  {
   "cell_type": "code",
   "execution_count": 28,
   "id": "49024e4b",
   "metadata": {},
   "outputs": [],
   "source": [
    "toy_model_json = toy_model.to_json()\n",
    "with open('911_toy_model.json', 'w') as jf:\n",
    "    jf.write(toy_model_json)\n",
    "toy_model.save_weights('911_toy_model.h5')"
   ]
  },
  {
   "cell_type": "code",
   "execution_count": 30,
   "id": "6d65a461",
   "metadata": {},
   "outputs": [
    {
     "name": "stdout",
     "output_type": "stream",
     "text": [
      "Model: \"sequential_1\"\n",
      "_________________________________________________________________\n",
      "Layer (type)                 Output Shape              Param #   \n",
      "=================================================================\n",
      "conv2d_2 (Conv2D)            (None, 95, 127, 8)        1544      \n",
      "_________________________________________________________________\n",
      "max_pooling2d_1 (MaxPooling2 (None, 11, 15, 8)         0         \n",
      "_________________________________________________________________\n",
      "conv2d_3 (Conv2D)            (None, 1, 2, 8)           4104      \n",
      "_________________________________________________________________\n",
      "dropout_1 (Dropout)          (None, 1, 2, 8)           0         \n",
      "_________________________________________________________________\n",
      "flatten_1 (Flatten)          (None, 16)                0         \n",
      "_________________________________________________________________\n",
      "dense_1 (Dense)              (None, 1)                 17        \n",
      "=================================================================\n",
      "Total params: 5,665\n",
      "Trainable params: 5,665\n",
      "Non-trainable params: 0\n",
      "_________________________________________________________________\n"
     ]
    }
   ],
   "source": [
    "# from tensorflow.keras.models import model_from_json\n",
    "with open('911_toy_model.json') as jf:\n",
    "    json = jf.read()\n",
    "loaded_model = model_from_json(json)\n",
    "loaded_model.load_weights('911_toy_model.h5')\n",
    "loaded_model.summary()"
   ]
  },
  {
   "cell_type": "code",
   "execution_count": 31,
   "id": "f18d7db5",
   "metadata": {},
   "outputs": [
    {
     "data": {
      "image/png": "[encoded data removed]",
      "text/plain": [
       "<Figure size 432x432 with 1 Axes>"
      ]
     },
     "metadata": {
      "needs_background": "light"
     },
     "output_type": "display_data"
    }
   ],
   "source": [
    "y_pred = np.round(toy_model.predict(X_test), 4)\n",
    "plt.figure(figsize=(6,6))\n",
    "plt.plot(y_test, y_pred, 'o', label='Test Data', ms=10, alpha=0.2, c='green')\n",
    "plt.axvline(x=0.5, ls='--', c='k')\n",
    "plt.axvline(x=0, ls='-', c='grey', zorder=0, lw=0.5)\n",
    "plt.axvline(x=1, ls='-', c='grey', zorder=0, lw=0.5)\n",
    "plt.axhline(y=0.5, ls='--', c='k')\n",
    "plt.axhline(y=0, ls='-', c='grey', zorder=0, lw=0.5)\n",
    "plt.axhline(y=1, ls='-', c='grey', zorder=0, lw=0.5)\n",
    "plt.xlim(-0.5,1.5)\n",
    "plt.xticks([0,1],['Not Trash', 'Trash'], size=20)\n",
    "plt.ylim(-0.1,1.1)\n",
    "plt.yticks(np.arange(0,1.01,0.1))\n",
    "plt.legend(bbox_to_anchor=(1,1), loc='upper left', edgecolor='k', fontsize=16)\n",
    "plt.title('Prelim CNN test', size=20)\n",
    "None"
   ]
  },
  {
   "cell_type": "code",
   "execution_count": 38,
   "id": "93ef1070",
   "metadata": {},
   "outputs": [
    {
     "data": {
      "text/plain": [
       "0"
      ]
     },
     "execution_count": 38,
     "metadata": {},
     "output_type": "execute_result"
    }
   ],
   "source": [
    "arr = np.load('911_X_test.npy')\n",
    "np.sum(arr != X_test)"
   ]
  },
  {
   "cell_type": "code",
   "execution_count": null,
   "id": "5da404bb",
   "metadata": {},
   "outputs": [],
   "source": []
  }
 ],
 "metadata": {
  "kernelspec": {
   "display_name": "Python 3 (ipykernel)",
   "language": "python",
   "name": "python3"
  },
  "language_info": {
   "codemirror_mode": {
    "name": "ipython",
    "version": 3
   },
   "file_extension": ".py",
   "mimetype": "text/x-python",
   "name": "python",
   "nbconvert_exporter": "python",
   "pygments_lexer": "ipython3",
   "version": "3.7.3"
  }
 },
 "nbformat": 4,
 "nbformat_minor": 5
}
