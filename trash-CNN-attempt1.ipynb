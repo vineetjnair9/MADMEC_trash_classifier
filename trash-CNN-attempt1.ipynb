{
 "cells": [
  {
   "cell_type": "code",
   "execution_count": 1,
   "id": "3d299c66",
   "metadata": {},
   "outputs": [],
   "source": [
    "import numpy as np\n",
    "import matplotlib.pyplot as plt\n",
    "import os\n",
    "from PIL import Image\n",
    "\n",
    "import tensorflow as tf\n",
    "from tensorflow import keras\n",
    "from tensorflow.keras import Sequential\n",
    "from tensorflow.keras.layers import Dense, Conv2D, Dropout, Flatten, MaxPooling2D"
   ]
  },
  {
   "cell_type": "code",
   "execution_count": 2,
   "id": "653a118f",
   "metadata": {},
   "outputs": [],
   "source": [
    "def toy_CNN(X_train, y_train, **kwargs):\n",
    "        \n",
    "    model = Sequential([\n",
    "        Conv2D(filters=8, kernel_size=(8,8), strides=(4,4), activation='relu', input_shape=(384, 512, 3)),\n",
    "        MaxPooling2D(pool_size=(8,8)),\n",
    "        Conv2D(filters=8, kernel_size=(8,8), strides=(4,4), activation='relu'),\n",
    "        Dropout(0.1),\n",
    "        Flatten(),\n",
    "        Dense(1, activation='sigmoid')\n",
    "    ])\n",
    "    \n",
    "    model.compile(loss='binary_crossentropy', optimizer='adam', metrics='accuracy')\n",
    "    history = model.fit(X_train, y_train, **kwargs)\n",
    "    return model, history"
   ]
  },
  {
   "cell_type": "code",
   "execution_count": 3,
   "id": "3aab9c04",
   "metadata": {},
   "outputs": [],
   "source": [
    "def small_CNN(X_train, y_train, **kwargs):\n",
    "        \n",
    "    model = Sequential([\n",
    "        Conv2D(filters=8, kernel_size=(8,8), strides=(4,4), activation='relu', input_shape=(384, 512, 3)),\n",
    "        MaxPooling2D(pool_size=(8,8)),\n",
    "        Conv2D(filters=8, kernel_size=(4,4), strides=(2,2), activation='relu'),\n",
    "        MaxPooling2D(pool_size=(4,4)),\n",
    "        Conv2D(filters=4, kernel_size=(4,4), strides=(2,2), activation='relu'),\n",
    "        MaxPooling2D(pool_size=(2,2)),\n",
    "        Conv2D(filters=4, kernel_size=(2,2), strides=(1,1), activation='relu'),\n",
    "        MaxPooling2D(pool_size=(2,2)),\n",
    "        Flatten(),\n",
    "        Dense(1, activation='sigmoid')\n",
    "    ])\n",
    "    \n",
    "    model.compile(loss='binary_crossentropy', optimizer='adam', metrics='accuracy')\n",
    "    history = model.fit(X_train, y_train, **kwargs)\n",
    "    return model, history"
   ]
  },
  {
   "cell_type": "code",
   "execution_count": 4,
   "id": "3c834abd",
   "metadata": {},
   "outputs": [
    {
     "name": "stdout",
     "output_type": "stream",
     "text": [
      "Total datapoints: 2527\n",
      "Kept datapoints: 2527\n",
      "Trash datapoints: 137\n",
      "done\n"
     ]
    }
   ],
   "source": [
    "X, y = [], []\n",
    "folder = 'dataset-resized'\n",
    "folder_list = os.listdir(folder)\n",
    "nTotal = len(folder_list)\n",
    "print('Total datapoints:', nTotal)\n",
    "nTrash = 0\n",
    "for file in folder_list:\n",
    "    trash = int(file.split('_')[0] == 'trash')\n",
    "    if not trash:\n",
    "        if np.random.rand() > 1: #0.2:\n",
    "            continue\n",
    "    img = Image.open(f'{folder}/{file}')\n",
    "    arr = np.array(img)\n",
    "    X.append(arr)\n",
    "    y.append(trash)\n",
    "    nTrash += trash\n",
    "print('Kept datapoints:', len(y))\n",
    "print('Trash datapoints:', nTrash)\n",
    "X, y = np.array(X), np.array(y)\n",
    "print('done')"
   ]
  },
  {
   "cell_type": "code",
   "execution_count": 5,
   "id": "d8a6f920",
   "metadata": {},
   "outputs": [
    {
     "name": "stdout",
     "output_type": "stream",
     "text": [
      "\n",
      " -- Performing NEW train-test split -- \n",
      "\n"
     ]
    }
   ],
   "source": [
    "def train_test_split(X, y, test_idx=None, test_size=0.2):\n",
    "    ''' Split input data X and labels y into training and testing arrays '''\n",
    "    n_list = list(range(len(y)))\n",
    "    if test_idx is None:\n",
    "        print('\\n -- Performing NEW train-test split -- \\n')\n",
    "        test_idx = np.random.choice(n_list, replace=False, size=int(test_size*len(y)))\n",
    "    else:\n",
    "        test_idx = np.array(test_idx)\n",
    "    train_idx = np.array([i for i in n_list if i not in test_idx])\n",
    "    X_train = X[train_idx,:]\n",
    "    X_test = X[test_idx,:]\n",
    "    y_train = y[train_idx]\n",
    "    y_test = y[test_idx]\n",
    "    return X_train, y_train, X_test, y_test, test_idx\n",
    "\n",
    "X_train, y_train, X_test, y_test, test_idx = train_test_split(X,y)"
   ]
  },
  {
   "cell_type": "code",
   "execution_count": 6,
   "id": "381aadb8",
   "metadata": {
    "scrolled": false
   },
   "outputs": [
    {
     "name": "stdout",
     "output_type": "stream",
     "text": [
      "{0: 1, 1: 100}\n",
      "Epoch 1/10\n",
      "51/51 [==============================] - 14s 279ms/step - loss: 0.0516 - accuracy: 0.9981 - val_loss: 97.7999 - val_accuracy: 0.7185\n",
      "Epoch 2/10\n",
      "51/51 [==============================] - 15s 289ms/step - loss: 7.7281e-28 - accuracy: 1.0000 - val_loss: 98.3668 - val_accuracy: 0.7185\n",
      "Epoch 3/10\n",
      "51/51 [==============================] - 15s 295ms/step - loss: 1.0941e-28 - accuracy: 1.0000 - val_loss: 98.3701 - val_accuracy: 0.7185\n",
      "Epoch 4/10\n",
      "51/51 [==============================] - 15s 302ms/step - loss: 2.9936e-17 - accuracy: 1.0000 - val_loss: 98.3701 - val_accuracy: 0.7185\n",
      "Epoch 5/10\n",
      "51/51 [==============================] - 16s 307ms/step - loss: 1.4014e-32 - accuracy: 1.0000 - val_loss: 98.3701 - val_accuracy: 0.7185\n",
      "Epoch 6/10\n",
      "51/51 [==============================] - 14s 272ms/step - loss: 4.2409e-29 - accuracy: 1.0000 - val_loss: 98.3701 - val_accuracy: 0.7185\n",
      "Epoch 7/10\n",
      "51/51 [==============================] - 13s 262ms/step - loss: 2.3036e-22 - accuracy: 1.0000 - val_loss: 98.3701 - val_accuracy: 0.7185\n",
      "Epoch 8/10\n",
      "51/51 [==============================] - 13s 258ms/step - loss: 2.4975e-28 - accuracy: 1.0000 - val_loss: 98.3701 - val_accuracy: 0.7185\n",
      "Epoch 9/10\n",
      "51/51 [==============================] - 14s 271ms/step - loss: 3.3354e-28 - accuracy: 1.0000 - val_loss: 98.3701 - val_accuracy: 0.7185\n",
      "Epoch 10/10\n",
      "51/51 [==============================] - 14s 269ms/step - loss: 3.3827e-35 - accuracy: 1.0000 - val_loss: 98.3701 - val_accuracy: 0.7185\n"
     ]
    }
   ],
   "source": [
    "class_weight = {0:1, 1:100}\n",
    "print(class_weight)\n",
    "toy_model, toy_hist = toy_CNN(X_train, y_train, verbose=True, epochs=10, validation_split=0.2,\n",
    "                                class_weight = class_weight)"
   ]
  },
  {
   "cell_type": "code",
   "execution_count": 7,
   "id": "3cec5c0b",
   "metadata": {},
   "outputs": [
    {
     "data": {
      "image/png": "[encoded data removed]",
      "text/plain": [
       "<Figure size 432x288 with 1 Axes>"
      ]
     },
     "metadata": {
      "needs_background": "light"
     },
     "output_type": "display_data"
    }
   ],
   "source": [
    "def plot_loss(hist):\n",
    "    plt.figure()\n",
    "    plt.plot(hist.history['loss'], label='loss')\n",
    "    plt.plot(hist.history['val_loss'], label='val_loss')\n",
    "    plt.xlabel('Epoch')\n",
    "    plt.ylabel('Loss (Binary Cross Entropy)')\n",
    "    plt.legend()\n",
    "    plt.grid(True)\n",
    "    \n",
    "plot_loss(toy_hist)"
   ]
  },
  {
   "cell_type": "code",
   "execution_count": 8,
   "id": "140f33f6",
   "metadata": {},
   "outputs": [
    {
     "data": {
      "image/png": "[encoded data removed]",
      "text/plain": [
       "<Figure size 432x432 with 1 Axes>"
      ]
     },
     "metadata": {
      "needs_background": "light"
     },
     "output_type": "display_data"
    }
   ],
   "source": [
    "y_pred = np.round(toy_model.predict(X_test), 4)\n",
    "plt.figure(figsize=(6,6))\n",
    "plt.plot(y_test, y_pred, 'o', label='Test Data')\n",
    "plt.axvline(x=0.5, ls='--', c='k')\n",
    "plt.axvline(x=0, ls='-', c='grey', zorder=0, lw=0.5)\n",
    "plt.axvline(x=1, ls='-', c='grey', zorder=0, lw=0.5)\n",
    "plt.axhline(y=0.5, ls='--', c='k')\n",
    "plt.axhline(y=0, ls='-', c='grey', zorder=0, lw=0.5)\n",
    "plt.axhline(y=1, ls='-', c='grey', zorder=0, lw=0.5)\n",
    "plt.xlim(-0.5,1.5)\n",
    "plt.xticks([0,1],['Not Trash', 'Trash'], size=20)\n",
    "plt.ylim(-0.1,1.1)\n",
    "plt.yticks(np.arange(0,1.01,0.1))\n",
    "plt.legend(bbox_to_anchor=(1,1), loc='upper left', edgecolor='k', fontsize=16)\n",
    "plt.title('Prelim CNN test', size=20)\n",
    "None"
   ]
  },
  {
   "cell_type": "code",
   "execution_count": null,
   "id": "6f0ffdfa",
   "metadata": {},
   "outputs": [],
   "source": []
  }
 ],
 "metadata": {
  "kernelspec": {
   "display_name": "Python 3.8.13 64-bit ('py38')",
   "language": "python",
   "name": "python3"
  },
  "language_info": {
   "codemirror_mode": {
    "name": "ipython",
    "version": 3
   },
   "file_extension": ".py",
   "mimetype": "text/x-python",
   "name": "python",
   "nbconvert_exporter": "python",
   "pygments_lexer": "ipython3",
   "version": "3.8.13"
  },
  "vscode": {
   "interpreter": {
    "hash": "7eb2f8f0579378df5cf922f452277afe4ba82fcad8503bc4d9fa6375a689b0ff"
   }
  }
 },
 "nbformat": 4,
 "nbformat_minor": 5
}
